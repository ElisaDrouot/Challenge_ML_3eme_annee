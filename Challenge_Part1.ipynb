{
  "nbformat": 4,
  "nbformat_minor": 0,
  "metadata": {
    "colab": {
      "provenance": [],
      "gpuType": "T4"
    },
    "kernelspec": {
      "name": "python3",
      "display_name": "Python 3"
    },
    "language_info": {
      "name": "python"
    },
    "accelerator": "GPU"
  },
  "cells": [
    {
      "cell_type": "markdown",
      "source": [
        "## Challenge Machine Learning"
      ],
      "metadata": {
        "id": "5ToNqeAegSGd"
      }
    },
    {
      "cell_type": "markdown",
      "source": [
        "Asma EL HAFIANE , Elisa DROUOT\n",
        "\n",
        "Le contexte :\n",
        "\n",
        "L'objectif de ce défi consiste à développer une méthode de classification reposant sur des réseaux de neurones pour catégoriser des images provenant de Google Quickdraw (https://quickdraw.withgoogle.com/data). Le jeu de données fourni comprend cinq classes équilibrées, comprenant 15 000 exemples d'entraînement et 5 000 exemples de validation. Ces classes sont constituées de paniers, d'yeux, de lunettes, de lapins et de mains.\n",
        "\n",
        "Pour relever ce défi avec succès, nous allons suivre les étapes fondamentales suivantes :\n",
        "\n",
        "Importer les images nécessaires pour l'entraînement et la validation, puis les convertir en matrices de pixels. Normaliser les valeurs des pixels de l'image en les divisant par 255. Construire une architecture de modèle séquentielle avec diverses couches. Entraîner le modèle. Évaluer la performance du modèle sur les données de test."
      ],
      "metadata": {
        "id": "eSfMoQ-7Sjcg"
      }
    },
    {
      "cell_type": "code",
      "execution_count": null,
      "metadata": {
        "id": "BR9jFoMNSO8F"
      },
      "outputs": [],
      "source": [
        "import tensorflow as tf\n",
        "import pandas as pd\n",
        "import numpy as np\n",
        "import time\n",
        "from PIL import Image\n",
        "import glob\n",
        "import matplotlib.pyplot as plt\n",
        "%matplotlib inline\n",
        "\n",
        "import os\n",
        "import cv2\n",
        "from tensorflow.keras.preprocessing.image import img_to_array, load_img, ImageDataGenerator\n",
        "from tensorflow.keras.utils import to_categorical\n",
        "from keras import layers\n",
        "from tensorflow.keras.optimizers import Adam\n",
        "from sklearn.model_selection import train_test_split\n",
        "from keras.callbacks import ModelCheckpoint\n",
        "from keras.preprocessing.image import ImageDataGenerator"
      ]
    },
    {
      "cell_type": "markdown",
      "source": [
        "## Préparation de données\n",
        "Vu que le dossier images qui contient les images pour l'entrainement et la validation du modèle est volumineux, on a décidé finalement de l'importer à travers du drive pour optimiser le temps de l'importation des donnée"
      ],
      "metadata": {
        "id": "dZUs67jfSvjT"
      }
    },
    {
      "cell_type": "markdown",
      "source": [
        "Un premier travail a constitué à réaliser la séparation des images en deux catégories : images d'entrainement et images de validation.\n",
        "Pour cela nous vons réalisé en local un programme python permettant de parcourir les fichier train.csv et valid.csv et de diviser les images.\n",
        "Voici le code python qui a été réalisé :\n"
      ],
      "metadata": {
        "id": "MiEvMlRdw5Ru"
      }
    },
    {
      "cell_type": "markdown",
      "source": [
        "    import zipfile\n",
        "    import io\n",
        "    import csv\n",
        "    import shutil\n",
        "    import os\n",
        "\n",
        "    chemin_fichier_zip = 'Data_Train_Valid.zip'\n",
        "\n",
        "    nom_fichier_train_csv = 'train.csv'\n",
        "    nom_fichier_valid_csv = 'valid.csv'\n",
        "\n",
        "    # Ouvre le fichier ZIP en mode lecture pour recuperer le fichier excel\n",
        "    with zipfile.ZipFile(chemin_fichier_zip, 'r') as archive_zip:\n",
        "        # Lit le contenu du fichier CSV dans une chaîne de caractères\n",
        "        contenu_train_csv = archive_zip.read(nom_fichier_train_csv).decode('utf-8')\n",
        "        contenu_valid_csv = archive_zip.read(nom_fichier_valid_csv).decode('utf-8')\n",
        "\n",
        "    # Utilise  le module csv pour lire le contenu comme un objet CSV\n",
        "    lecteur_train_csv = csv.reader(io.StringIO(contenu_train_csv))\n",
        "    lecteur_valid_csv = csv.reader(io.StringIO(contenu_valid_csv))\n",
        "\n",
        "    #Récupère les images qui sont dans un Dossier Data_Train_Valid extrait du Data_Train_Valid.zip\n",
        "\n",
        "    destination_train_path = 'Train'\n",
        "    for index, ligne in enumerate(lecteur_train_csv):\n",
        "        if index > 0:\n",
        "            nom_image_train = \"Data_Train_Valid/images/\" + ligne[1]\n",
        "            shutil.copy(nom_image_train, destination_train_path)\n",
        "\n",
        "    destination_valid_path = 'Valid'\n",
        "    for index, ligne in enumerate(lecteur_valid_csv):\n",
        "        if index > 0:\n",
        "            nom_image_valid = \"Data_Train_Valid/images/\" + ligne[1]\n",
        "            shutil.copy(nom_image_valid, destination_valid_path)\n",
        "\n"
      ],
      "metadata": {
        "id": "bJGhrcNB0NiB"
      }
    },
    {
      "cell_type": "markdown",
      "source": [
        "Nous avons ensuite mit ces données sur un git qu'il était possible de clone:"
      ],
      "metadata": {
        "id": "FTLZefV9m4Vl"
      }
    },
    {
      "cell_type": "markdown",
      "source": [
        "!git clone \"https://gitlab.isima.fr/eldrouot/challenge_machine_learning.git\"\n"
      ],
      "metadata": {
        "id": "VDMhrJv0muRm"
      }
    },
    {
      "cell_type": "markdown",
      "source": [
        "Cependant nous nous sommes rendues compte qu'avec cette méthode les labels n'étaient pas récupérés et avons donc utilisé une autre méthode"
      ],
      "metadata": {
        "id": "Wgbk6wJvnEL3"
      }
    },
    {
      "cell_type": "code",
      "source": [
        "# Importation de la fonction drive depuis le module google.colab pour monter Google Drive\n",
        "from google.colab import drive\n",
        "\n",
        "# Montage du répertoire Google Drive dans le répertoire /content/drive de l'environnement Colab\n",
        "drive.mount('/content/drive')"
      ],
      "metadata": {
        "colab": {
          "base_uri": "https://localhost:8080/"
        },
        "id": "TFLYlquJS2eB",
        "outputId": "ffc01f7b-7bc6-4ebe-ed11-680f8042295c"
      },
      "execution_count": null,
      "outputs": [
        {
          "output_type": "stream",
          "name": "stdout",
          "text": [
            "Drive already mounted at /content/drive; to attempt to forcibly remount, call drive.mount(\"/content/drive\", force_remount=True).\n"
          ]
        }
      ]
    },
    {
      "cell_type": "code",
      "source": [
        "# Commande pour décompresser le fichier zip dans Google Drive\n",
        "#!unzip \"/content/drive/My Drive/Data_Train_Valid.zip\""
      ],
      "metadata": {
        "id": "73bpLUODS8kV"
      },
      "execution_count": null,
      "outputs": []
    },
    {
      "cell_type": "code",
      "source": [
        "# Définition des classes pour la classification des images\n",
        "classes = [\"basket\", \"eye\", \"binoculars\", \"rabbit\", \"hand\"]\n",
        "\n",
        "# Chargement des données d'entraînement et de validation depuis les fichiers CSV correspondants\n",
        "train = pd.read_csv('train.csv')\n",
        "valid = pd.read_csv('valid.csv')\n",
        "\n",
        "# Définition de la forme attendue des images (28x28 pixels avec 3 canaux de couleur pour RGB)\n",
        "img_shape = (28, 28, 3)\n",
        "\n",
        "# Extraction de la taille de l'image sans tenir compte des canaux de couleur (largeur x hauteur)\n",
        "img_size = img_shape[:2]\n",
        "\n",
        "# Nombre total de classes dans le problème de classification\n",
        "num_classes = 5\n"
      ],
      "metadata": {
        "id": "xGcQshkxTcRi"
      },
      "execution_count": null,
      "outputs": []
    },
    {
      "cell_type": "markdown",
      "source": [
        "## Visualisation de données"
      ],
      "metadata": {
        "id": "DxFtd8M6TgsO"
      }
    },
    {
      "cell_type": "code",
      "source": [
        "# Définition de la taille de la figure\n",
        "plt.figure(figsize=(18, 9))\n",
        "\n",
        "# Boucle pour afficher des échantillons d'images pour chaque classe\n",
        "for i in range(0, 5):\n",
        "    # Définition de l'emplacement de l'image dans la grille\n",
        "    ax = plt.subplot(3, 2, i + 1)\n",
        "\n",
        "    # Lecture d'une seule ligne du fichier train.csv pour obtenir le nom du fichier image\n",
        "    mydata = pd.read_csv(\"train.csv\", skiprows=[1], nrows=1)\n",
        "\n",
        "    # Ouverture de la première image de la classe actuelle\n",
        "    im = Image.open('images/' + classes[i] + '/' + os.listdir(\"images/\" + classes[i])[0])\n",
        "\n",
        "    # Affichage de l'image dans la sous-figure\n",
        "    fig = ax.imshow(im)\n",
        "\n",
        "    # Configuration du titre de la sous-figure\n",
        "    plt.title(classes[i])\n",
        "\n",
        "    # Désactivation des axes x et y\n",
        "    fig.axes.get_xaxis().set_visible(False)\n",
        "    fig.axes.get_yaxis().set_visible(False)\n",
        "\n",
        "# Affichage de la figure\n",
        "plt.show()\n"
      ],
      "metadata": {
        "id": "COmqc043Te1P",
        "colab": {
          "base_uri": "https://localhost:8080/",
          "height": 752
        },
        "outputId": "657ff8c3-adbc-49dd-e2df-58b308e72abd"
      },
      "execution_count": null,
      "outputs": [
        {
          "output_type": "display_data",
          "data": {
            "text/plain": [
              "<Figure size 1800x900 with 5 Axes>"
            ],
            "image/png": "[encoded data removed]"
          },
          "metadata": {}
        }
      ]
    },
    {
      "cell_type": "markdown",
      "source": [
        "## Chargement des données\n",
        "La fonction load_images_and_labels a pour objectif de charger et préparer les données d'entraînement et de validation pour un modèle d'apprentissage automatique. Elle initialise des listes pour stocker les images et les étiquettes, puis parcourt les chemins d'accès aux images dans les données d'entraînement et de validation. Pour chaque image, elle la charge, la convertit en une matrice de pixels, et l'ajoute à la liste correspondante. Enfin, elle divise les données d'entraînement en ensembles d'entraînement et de test à l'aide de train_test_split, puis retourne ces ensembles, ainsi que les images et étiquettes de validation. La fonction sert ainsi à préparer les données pour une utilisation ultérieure dans le processus d'apprentissage du modèle."
      ],
      "metadata": {
        "id": "ElZfi9FpTp1b"
      }
    },
    {
      "cell_type": "code",
      "source": [
        "# Importation des fonctions nécessaires\n",
        "from sklearn.model_selection import train_test_split\n",
        "from keras.preprocessing.image import load_img, img_to_array\n",
        "\n",
        "# Définition de la fonction pour charger les images et les étiquettes\n",
        "def load_images_and_labels(train_data, valid_data, img_size):\n",
        "    # Initialisation des listes pour stocker les images et les étiquettes d'entraînement\n",
        "    train_images = []\n",
        "    train_labels = train_data['class_label']\n",
        "\n",
        "    # Initialisation des listes pour stocker les images et les étiquettes de validation\n",
        "    valid_images = []\n",
        "    valid_labels = valid_data['class_label']\n",
        "\n",
        "    # Chargement des images d'entraînement\n",
        "    for train_img_path in train_data['relative_path']:\n",
        "        try:\n",
        "            # Construction du chemin complet de l'image d'entraînement\n",
        "            full_train_img_path = 'images/' + train_img_path\n",
        "\n",
        "            # Chargement de l'image d'entraînement et conversion en matrice de pixels\n",
        "            train_img = load_img(full_train_img_path, target_size=img_size)\n",
        "            train_img_array = img_to_array(train_img)\n",
        "\n",
        "            # Ajout de la matrice de pixels à la liste des images d'entraînement\n",
        "            train_images.append(train_img_array)\n",
        "        except Exception as e:\n",
        "            print(e)\n",
        "\n",
        "    # Division des données d'entraînement en ensembles d'entraînement et de test\n",
        "    X_train, X_test, y_train, y_test = train_test_split(train_images, train_labels, test_size=0.15, random_state=42)\n",
        "\n",
        "    # Chargement des images de validation\n",
        "    for valid_img_path in valid_data['relative_path']:\n",
        "        try:\n",
        "            # Construction du chemin complet de l'image de validation\n",
        "            full_valid_img_path = 'images/' + valid_img_path\n",
        "\n",
        "            # Chargement de l'image de validation et conversion en matrice de pixels\n",
        "            valid_img = load_img(full_valid_img_path, target_size=img_size)\n",
        "            valid_img_array = img_to_array(valid_img)\n",
        "\n",
        "            # Ajout de la matrice de pixels à la liste des images de validation\n",
        "            valid_images.append(valid_img_array)\n",
        "        except Exception as e:\n",
        "            print(e)\n",
        "\n",
        "    # Retour des données d'entraînement et de validation\n",
        "    return X_train, y_train, valid_images, valid_labels, X_test, y_test\n",
        "\n"
      ],
      "metadata": {
        "id": "NhuJ1snaTpJ7"
      },
      "execution_count": null,
      "outputs": []
    },
    {
      "cell_type": "code",
      "source": [
        "X_train, y_train, X_valid, y_valid, X_test, y_test = load_images_and_labels(train, valid, img_size)"
      ],
      "metadata": {
        "id": "lYz34A89Tve6"
      },
      "execution_count": null,
      "outputs": []
    },
    {
      "cell_type": "markdown",
      "source": [
        "## Prétraitement des données\n"
      ],
      "metadata": {
        "id": "o9kDtKmfUBpp"
      }
    },
    {
      "cell_type": "code",
      "source": [
        "# Normalisation des données\n",
        "X_train_normalized = np.array(X_train) / 255\n",
        "X_valid_normalized = np.array(X_valid) / 255\n",
        "X_test_normalized = np.array(X_test) / 255\n",
        "\n",
        "# Convertir les vecteurs en matrices\n",
        "Y_train_categorical = tf.keras.utils.to_categorical(y_train, num_classes)\n",
        "Y_valid_categorical = tf.keras.utils.to_categorical(y_valid, num_classes)\n",
        "Y_test_categorical = tf.keras.utils.to_categorical(y_test, num_classes)\n",
        "\n",
        "# Affichage des formes pour vérification\n",
        "print('Train shapes      :', X_train_normalized.shape, Y_train_categorical.shape)\n",
        "print('Valid shapes      :', X_valid_normalized.shape, Y_valid_categorical.shape)\n",
        "print('Test shapes       :', X_test_normalized.shape, Y_test_categorical.shape)\n"
      ],
      "metadata": {
        "id": "ZN3s9JeJUNGf",
        "colab": {
          "base_uri": "https://localhost:8080/"
        },
        "outputId": "b45d0743-f6d8-49c7-e60e-900cbfd14559"
      },
      "execution_count": null,
      "outputs": [
        {
          "output_type": "stream",
          "name": "stdout",
          "text": [
            "Train shapes      : (63750, 28, 28, 3) (63750, 5)\n",
            "Valid shapes      : (25000, 28, 28, 3) (25000, 5)\n",
            "Test shapes       : (11250, 28, 28, 3) (11250, 5)\n"
          ]
        }
      ]
    },
    {
      "cell_type": "markdown",
      "source": [
        "# Mise en place du modèle\n",
        "## Paramètres du modèle"
      ],
      "metadata": {
        "id": "Qh39YD4-U-kd"
      }
    },
    {
      "cell_type": "code",
      "source": [
        "# Définition du nombre d'époques d'entraînement\n",
        "num_epochs = 20\n",
        "\n",
        "# Définition de la taille de lot (batch_size) pour l'entraînement\n",
        "batch_size = 256\n",
        "\n",
        "# Définition du chemin pour sauvegarder le modèle\n",
        "filepath = '/content/drive/My Drive/Challenge_DL.h5'"
      ],
      "metadata": {
        "id": "Dne8gTmxVEe5"
      },
      "execution_count": null,
      "outputs": []
    },
    {
      "cell_type": "markdown",
      "source": [
        "Nous avons choisis d'utiliser un CNN car les ce type de réseaux permet d'extraire automatiquement et de manière hiérarchique des caractéristiques spatiales complexes à partir des données, ce qui le rend particulièrement adapté à la reconnaissance de motifs dans des images.\n",
        "En ajoutant plus de couches convolutives, le modèle peut apprendre des hiérarchies de caractéristiques plus complexes. Chaque couche convolutive peut extraire des motifs de plus en plus abstraits dans les données.\n",
        "Les couches de pooling et les convolutions successives permettent au modèle d'atteindre une certaine invariance spatiale, ce qui signifie qu'il peut reconnaître des motifs même s'ils sont déplacés dans l'image."
      ],
      "metadata": {
        "id": "JDK1YayUlpAE"
      }
    },
    {
      "cell_type": "markdown",
      "source": [
        "    def create_custom_model(input_shape):\n",
        "        custom_model = tf.keras.Sequential()\n",
        "\n",
        "        # Première couche de convolution\n",
        "        custom_model.add(layers.Convolution2D(32, (3, 3),\n",
        "                              padding='same',\n",
        "                              input_shape=input_shape, activation='relu'))\n",
        "        custom_model.add(layers.MaxPooling2D(pool_size=(2, 2)))\n",
        "\n",
        "        # Deuxième couche de convolution\n",
        "        custom_model.add(layers.Convolution2D(64, (3, 3), padding='same', activation='relu'))\n",
        "        custom_model.add(layers.MaxPooling2D(pool_size=(2, 2)))\n",
        "\n",
        "        # Troisième couche de convolution\n",
        "        custom_model.add(layers.Convolution2D(128, (3, 3), padding='same', activation='relu'))\n",
        "        custom_model.add(layers.MaxPooling2D(pool_size=(2, 2)))\n",
        "\n",
        "        # Aplanir les données\n",
        "        custom_model.add(layers.Flatten())\n",
        "\n",
        "        # Couche de régularisation pour prévenir l'overfitting\n",
        "        custom_model.add(layers.Dropout(0.5))\n",
        "\n",
        "        # Première couche dense\n",
        "        custom_model.add(layers.Dense(256, activation='relu'))\n",
        "\n",
        "        # Deuxième couche dense\n",
        "        custom_model.add(layers.Dense(128, activation='relu'))\n",
        "\n",
        "        # Couche de sortie\n",
        "        custom_model.add(layers.Dense(5, activation='softmax'))\n",
        "\n",
        "        # Compiler le modèle\n",
        "        custom_model.compile(loss='categorical_crossentropy',\n",
        "                            optimizer='Adam',\n",
        "                            metrics=['accuracy'])\n",
        "\n",
        "        custom_model.summary()\n",
        "\n",
        "        return custom_model\n",
        "\n"
      ],
      "metadata": {
        "id": "YQBxMiiwoNi-"
      }
    },
    {
      "cell_type": "markdown",
      "source": [
        "## Définition du modèle (CNN)\n",
        "\n",
        "def create_model(input_shape):\n",
        "    model = tf.keras.Sequential()\n",
        "\n",
        "    # Première couche de convolution\n",
        "    model.add(layers.Convolution2D(32, (3, 3),padding='same',input_shape=input_shape, activation='relu'))\n",
        "\n",
        "    # Deuxième couche de convolution\n",
        "    model.add(layers.Convolution2D(64, (3, 3), padding='same', activation='relu'))\n",
        "\n",
        "    #Pooling\n",
        "    model.add(layers.MaxPooling2D(pool_size=(2, 2)))\n",
        "\n",
        "    model.add(Dropout(.20))\n",
        "    # Troisième couche de convolution\n",
        "    model.add(layers.Convolution2D(128, (3, 3), padding='same', activation='relu'))\n",
        "\n",
        "    # Quatrième couche de convolution\n",
        "    model.add(layers.Convolution2D(256, (3, 3), padding='same', activation='relu'))\n",
        "\n",
        "    #Pooling\n",
        "    model.add(layers.MaxPooling2D(pool_size=(2, 2)))\n",
        "\n",
        "    # Aplanir les données\n",
        "    model.add(layers.Flatten())\n",
        "\n",
        "    # Couche de régularisation pour prévenir l'overfitting\n",
        "    model.add(layers.Dropout(0.5))\n",
        "\n",
        "    # Première couche dense\n",
        "    model.add(layers.Dense(128, activation='relu'))\n",
        "\n",
        "    # Deuxième couche dense\n",
        "    model.add(layers.Dense(100, activation='relu'))\n",
        "\n",
        "    # Couche de sortie\n",
        "    model.add(layers.Dense(5, activation='softmax'))\n",
        "\n",
        "    # On compile le modèle\n",
        "    model.compile(loss='categorical_crossentropy',\n",
        "                         optimizer='Adam',\n",
        "                         metrics=['accuracy'])\n",
        "\n",
        "    model.summary()\n",
        "\n",
        "    return model"
      ],
      "metadata": {
        "id": "C2h5Zaylosml"
      }
    },
    {
      "cell_type": "markdown",
      "source": [
        "Ce modèle et bien moins précis que celui que nous utilisons."
      ],
      "metadata": {
        "id": "qghhNZmxFAO-"
      }
    },
    {
      "cell_type": "markdown",
      "source": [
        "Nous avons également essayé un modèle à 7 couches :"
      ],
      "metadata": {
        "id": "cAi4Lep2FFue"
      }
    },
    {
      "cell_type": "markdown",
      "source": [
        "    def create_custom_model(input_shape):\n",
        "        model = tf.keras.Sequential()\n",
        "\n",
        "        # Première couche de convolution\n",
        "        model.add(layers.Convolution2D(32, (3, 3),padding='same',input_shape=input_shape, activation='relu'))\n",
        "\n",
        "        # Deuxième couche de convolution\n",
        "        model.add(layers.Convolution2D(64, (3, 3), padding='same', activation='relu'))\n",
        "\n",
        "        #Pooling\n",
        "        model.add(layers.MaxPooling2D(pool_size=(2, 2)))\n",
        "\n",
        "        model.add(Dropout(.20))\n",
        "        # Troisième couche de convolution\n",
        "        model.add(layers.Convolution2D(128, (3, 3), padding='same', activation='relu'))\n",
        "\n",
        "        # Quatrième couche de convolution\n",
        "        model.add(layers.Convolution2D(256, (3, 3), padding='same', activation='relu'))\n",
        "\n",
        "        #Pooling\n",
        "        model.add(layers.MaxPooling2D(pool_size=(2, 2)))\n",
        "\n",
        "        # Cinquième couche de convolution\n",
        "        model.add(layers.Convolution2D(512, (3, 3), padding='same', activation='relu'))\n",
        "\n",
        "        # Sixième couche de convolution\n",
        "        model.add(layers.Convolution2D(1024, (3, 3), padding='same', activation='relu'))\n",
        "\n",
        "        # Septième couche de convolution\n",
        "        model.add(layers.Convolution2D(2048, (3, 3), padding='same', activation='relu'))\n",
        "\n",
        "        #Pooling\n",
        "        model.add(layers.MaxPooling2D(pool_size=(2, 2)))\n",
        "\n",
        "        # Aplanir les données\n",
        "        model.add(layers.Flatten())\n",
        "\n",
        "        # Couche de régularisation pour prévenir l'overfitting\n",
        "        model.add(layers.Dropout(0.5))\n",
        "\n",
        "        # Première couche dense\n",
        "        model.add(layers.Dense(128, activation='relu'))\n",
        "\n",
        "        # Deuxième couche dense\n",
        "        model.add(layers.Dense(100, activation='relu'))\n",
        "\n",
        "        # Couche de sortie\n",
        "        model.add(layers.Dense(5, activation='softmax'))\n",
        "\n",
        "        # On compile le modèle\n",
        "        model.compile(loss='categorical_crossentropy',\n",
        "                            optimizer='Adam',\n",
        "                            metrics=['accuracy'])\n",
        "\n",
        "        model.summary()\n",
        "\n",
        "        return model\n",
        "\n",
        "\n"
      ],
      "metadata": {
        "id": "b6YGa6iIFQbo"
      }
    },
    {
      "cell_type": "markdown",
      "source": [
        "Mais ce modèle était bien plus long (14mn pour 20 epochs contre 4mn avec le modèle ci dessous) et avait une plus faible accuracy : 0,9604"
      ],
      "metadata": {
        "id": "ahAMIVOsFe9A"
      }
    },
    {
      "cell_type": "markdown",
      "source": [
        "Cela est du au fait que l'ajout de couches supplémentaires augmente également la complexité du modèle, ce qui peut entraîner un surajustement si le volume de données d'entraînement est limité c'est pour ça que nous nous sommes limités à 6 couches de convolution."
      ],
      "metadata": {
        "id": "qW8WkR1VF0UP"
      }
    },
    {
      "cell_type": "code",
      "source": [
        "## Définition du modèle (CNN)\n",
        "\n",
        "def create_model(input_shape):\n",
        "    model = tf.keras.Sequential()\n",
        "\n",
        "    # Première couche de convolution\n",
        "    model.add(layers.Convolution2D(32, (3, 3),padding='same',input_shape=input_shape, activation='relu'))\n",
        "\n",
        "    # Deuxième couche de convolution\n",
        "    model.add(layers.Convolution2D(64, (3, 3), padding='same', activation='relu'))\n",
        "\n",
        "    #Pooling\n",
        "    model.add(layers.MaxPooling2D(pool_size=(2, 2)))\n",
        "\n",
        "    model.add(Dropout(.20))\n",
        "    # Troisième couche de convolution\n",
        "    model.add(layers.Convolution2D(128, (3, 3), padding='same', activation='relu'))\n",
        "\n",
        "    # Quatrième couche de convolution\n",
        "    model.add(layers.Convolution2D(256, (3, 3), padding='same', activation='relu'))\n",
        "\n",
        "    #Pooling\n",
        "    model.add(layers.MaxPooling2D(pool_size=(2, 2)))\n",
        "\n",
        "    # Cinquième couche de convolution\n",
        "    model.add(layers.Convolution2D(128, (3, 3), padding='same', activation='relu'))\n",
        "\n",
        "    # Sixième couche de convolution\n",
        "    model.add(layers.Convolution2D(256, (3, 3), padding='same', activation='relu'))\n",
        "\n",
        "    #Pooling\n",
        "    model.add(layers.MaxPooling2D(pool_size=(2, 2)))\n",
        "\n",
        "    # Aplanir les données\n",
        "    model.add(layers.Flatten())\n",
        "\n",
        "    # Couche de régularisation pour prévenir l'overfitting\n",
        "    model.add(layers.Dropout(0.5))\n",
        "\n",
        "    # Première couche dense\n",
        "    model.add(layers.Dense(128, activation='relu'))\n",
        "\n",
        "    # Deuxième couche dense\n",
        "    model.add(layers.Dense(100, activation='relu'))\n",
        "\n",
        "    # Couche de sortie\n",
        "    model.add(layers.Dense(5, activation='softmax'))\n",
        "\n",
        "    # On compile le modèle\n",
        "    model.compile(loss='categorical_crossentropy',\n",
        "                         optimizer='Adam',\n",
        "                         metrics=['accuracy'])\n",
        "\n",
        "    model.summary()\n",
        "\n",
        "    return model"
      ],
      "metadata": {
        "id": "lw9hq-ZeVLBp"
      },
      "execution_count": null,
      "outputs": []
    },
    {
      "cell_type": "code",
      "source": [
        "import numpy as np\n",
        "import tensorflow as tf\n",
        "from keras.layers import Convolution2D, MaxPooling2D, Flatten, Dense, Dropout\n",
        "\n",
        "\n",
        "# Convertir la liste en un tableau NumPy\n",
        "X_train_np = np.array(X_train)\n",
        "\n",
        "# Assurer que les données sont normalisées\n",
        "X_train_np_normalized = X_train_np / 255.0\n",
        "\n",
        "# Création du modèle en utilisant la fonction définie précédemment\n",
        "my_model = create_model(input_shape=X_train_np_normalized.shape[1:])\n",
        "\n",
        "# Affichage d'un résumé du modèle\n",
        "my_model.summary()\n"
      ],
      "metadata": {
        "id": "3RXtC28wVp_4",
        "colab": {
          "base_uri": "https://localhost:8080/"
        },
        "outputId": "00a44a32-000f-44df-c700-e12c1b3cbf24"
      },
      "execution_count": null,
      "outputs": [
        {
          "output_type": "stream",
          "name": "stdout",
          "text": [
            "Model: \"sequential\"\n",
            "_________________________________________________________________\n",
            " Layer (type)                Output Shape              Param #   \n",
            "=================================================================\n",
            " conv2d (Conv2D)             (None, 28, 28, 32)        896       \n",
            "                                                                 \n",
            " conv2d_1 (Conv2D)           (None, 28, 28, 64)        18496     \n",
            "                                                                 \n",
            " max_pooling2d (MaxPooling2  (None, 14, 14, 64)        0         \n",
            " D)                                                              \n",
            "                                                                 \n",
            " dropout (Dropout)           (None, 14, 14, 64)        0         \n",
            "                                                                 \n",
            " conv2d_2 (Conv2D)           (None, 14, 14, 128)       73856     \n",
            "                                                                 \n",
            " conv2d_3 (Conv2D)           (None, 14, 14, 256)       295168    \n",
            "                                                                 \n",
            " max_pooling2d_1 (MaxPoolin  (None, 7, 7, 256)         0         \n",
            " g2D)                                                            \n",
            "                                                                 \n",
            " conv2d_4 (Conv2D)           (None, 7, 7, 128)         295040    \n",
            "                                                                 \n",
            " conv2d_5 (Conv2D)           (None, 7, 7, 256)         295168    \n",
            "                                                                 \n",
            " max_pooling2d_2 (MaxPoolin  (None, 3, 3, 256)         0         \n",
            " g2D)                                                            \n",
            "                                                                 \n",
            " flatten (Flatten)           (None, 2304)              0         \n",
            "                                                                 \n",
            " dropout_1 (Dropout)         (None, 2304)              0         \n",
            "                                                                 \n",
            " dense (Dense)               (None, 128)               295040    \n",
            "                                                                 \n",
            " dense_1 (Dense)             (None, 100)               12900     \n",
            "                                                                 \n",
            " dense_2 (Dense)             (None, 5)                 505       \n",
            "                                                                 \n",
            "=================================================================\n",
            "Total params: 1287069 (4.91 MB)\n",
            "Trainable params: 1287069 (4.91 MB)\n",
            "Non-trainable params: 0 (0.00 Byte)\n",
            "_________________________________________________________________\n",
            "Model: \"sequential\"\n",
            "_________________________________________________________________\n",
            " Layer (type)                Output Shape              Param #   \n",
            "=================================================================\n",
            " conv2d (Conv2D)             (None, 28, 28, 32)        896       \n",
            "                                                                 \n",
            " conv2d_1 (Conv2D)           (None, 28, 28, 64)        18496     \n",
            "                                                                 \n",
            " max_pooling2d (MaxPooling2  (None, 14, 14, 64)        0         \n",
            " D)                                                              \n",
            "                                                                 \n",
            " dropout (Dropout)           (None, 14, 14, 64)        0         \n",
            "                                                                 \n",
            " conv2d_2 (Conv2D)           (None, 14, 14, 128)       73856     \n",
            "                                                                 \n",
            " conv2d_3 (Conv2D)           (None, 14, 14, 256)       295168    \n",
            "                                                                 \n",
            " max_pooling2d_1 (MaxPoolin  (None, 7, 7, 256)         0         \n",
            " g2D)                                                            \n",
            "                                                                 \n",
            " conv2d_4 (Conv2D)           (None, 7, 7, 128)         295040    \n",
            "                                                                 \n",
            " conv2d_5 (Conv2D)           (None, 7, 7, 256)         295168    \n",
            "                                                                 \n",
            " max_pooling2d_2 (MaxPoolin  (None, 3, 3, 256)         0         \n",
            " g2D)                                                            \n",
            "                                                                 \n",
            " flatten (Flatten)           (None, 2304)              0         \n",
            "                                                                 \n",
            " dropout_1 (Dropout)         (None, 2304)              0         \n",
            "                                                                 \n",
            " dense (Dense)               (None, 128)               295040    \n",
            "                                                                 \n",
            " dense_1 (Dense)             (None, 100)               12900     \n",
            "                                                                 \n",
            " dense_2 (Dense)             (None, 5)                 505       \n",
            "                                                                 \n",
            "=================================================================\n",
            "Total params: 1287069 (4.91 MB)\n",
            "Trainable params: 1287069 (4.91 MB)\n",
            "Non-trainable params: 0 (0.00 Byte)\n",
            "_________________________________________________________________\n"
          ]
        }
      ]
    },
    {
      "cell_type": "code",
      "source": [
        "# Création du callback\n",
        "checkpoint_callback = ModelCheckpoint(filepath=filepath,\n",
        "                                       monitor='val_loss',\n",
        "                                       verbose=2,\n",
        "                                       save_best_only=True,\n",
        "                                       mode='min')\n",
        "callbacks = [checkpoint_callback]\n",
        "\n",
        "# Entraînement du modèle\n",
        "history = my_model.fit(X_train_normalized,\n",
        "                       Y_train_categorical,\n",
        "                       batch_size=batch_size,\n",
        "                       epochs=num_epochs,\n",
        "                       verbose=2,\n",
        "                       validation_data=(X_valid_normalized, Y_valid_categorical),\n",
        "                       callbacks=callbacks,\n",
        "                       use_multiprocessing=True)\n"
      ],
      "metadata": {
        "id": "ENCF_s7iWtmL",
        "colab": {
          "base_uri": "https://localhost:8080/"
        },
        "outputId": "7ed050fe-3392-4489-b3e7-7b2feb316bd5"
      },
      "execution_count": null,
      "outputs": [
        {
          "output_type": "stream",
          "name": "stdout",
          "text": [
            "Epoch 1/20\n",
            "\n",
            "Epoch 1: val_loss improved from inf to 0.18071, saving model to /content/drive/My Drive/Challenge_DL.h5\n"
          ]
        },
        {
          "output_type": "stream",
          "name": "stderr",
          "text": [
            "/usr/local/lib/python3.10/dist-packages/keras/src/engine/training.py:3103: UserWarning: You are saving your model as an HDF5 file via `model.save()`. This file format is considered legacy. We recommend using instead the native Keras format, e.g. `model.save('my_model.keras')`.\n",
            "  saving_api.save_model(\n"
          ]
        },
        {
          "output_type": "stream",
          "name": "stdout",
          "text": [
            "250/250 - 26s - loss: 0.4500 - accuracy: 0.8404 - val_loss: 0.1807 - val_accuracy: 0.9403 - 26s/epoch - 105ms/step\n",
            "Epoch 2/20\n",
            "\n",
            "Epoch 2: val_loss improved from 0.18071 to 0.15703, saving model to /content/drive/My Drive/Challenge_DL.h5\n",
            "250/250 - 12s - loss: 0.1837 - accuracy: 0.9394 - val_loss: 0.1570 - val_accuracy: 0.9485 - 12s/epoch - 49ms/step\n",
            "Epoch 3/20\n",
            "\n",
            "Epoch 3: val_loss improved from 0.15703 to 0.13138, saving model to /content/drive/My Drive/Challenge_DL.h5\n",
            "250/250 - 12s - loss: 0.1395 - accuracy: 0.9536 - val_loss: 0.1314 - val_accuracy: 0.9568 - 12s/epoch - 49ms/step\n",
            "Epoch 4/20\n",
            "\n",
            "Epoch 4: val_loss improved from 0.13138 to 0.13049, saving model to /content/drive/My Drive/Challenge_DL.h5\n",
            "250/250 - 12s - loss: 0.1199 - accuracy: 0.9596 - val_loss: 0.1305 - val_accuracy: 0.9572 - 12s/epoch - 48ms/step\n",
            "Epoch 5/20\n",
            "\n",
            "Epoch 5: val_loss improved from 0.13049 to 0.12994, saving model to /content/drive/My Drive/Challenge_DL.h5\n",
            "250/250 - 12s - loss: 0.1079 - accuracy: 0.9630 - val_loss: 0.1299 - val_accuracy: 0.9580 - 12s/epoch - 49ms/step\n",
            "Epoch 6/20\n",
            "\n",
            "Epoch 6: val_loss did not improve from 0.12994\n",
            "250/250 - 12s - loss: 0.0883 - accuracy: 0.9696 - val_loss: 0.1313 - val_accuracy: 0.9594 - 12s/epoch - 47ms/step\n",
            "Epoch 7/20\n",
            "\n",
            "Epoch 7: val_loss did not improve from 0.12994\n",
            "250/250 - 12s - loss: 0.0825 - accuracy: 0.9709 - val_loss: 0.1771 - val_accuracy: 0.9400 - 12s/epoch - 48ms/step\n",
            "Epoch 8/20\n",
            "\n",
            "Epoch 8: val_loss improved from 0.12994 to 0.12182, saving model to /content/drive/My Drive/Challenge_DL.h5\n",
            "250/250 - 13s - loss: 0.0998 - accuracy: 0.9661 - val_loss: 0.1218 - val_accuracy: 0.9623 - 13s/epoch - 51ms/step\n",
            "Epoch 9/20\n",
            "\n",
            "Epoch 9: val_loss improved from 0.12182 to 0.11797, saving model to /content/drive/My Drive/Challenge_DL.h5\n",
            "250/250 - 12s - loss: 0.0705 - accuracy: 0.9754 - val_loss: 0.1180 - val_accuracy: 0.9619 - 12s/epoch - 50ms/step\n",
            "Epoch 10/20\n",
            "\n",
            "Epoch 10: val_loss did not improve from 0.11797\n",
            "250/250 - 12s - loss: 0.0591 - accuracy: 0.9789 - val_loss: 0.1250 - val_accuracy: 0.9621 - 12s/epoch - 49ms/step\n",
            "Epoch 11/20\n",
            "\n",
            "Epoch 11: val_loss did not improve from 0.11797\n",
            "250/250 - 12s - loss: 0.0543 - accuracy: 0.9811 - val_loss: 0.1270 - val_accuracy: 0.9631 - 12s/epoch - 48ms/step\n",
            "Epoch 12/20\n",
            "\n",
            "Epoch 12: val_loss did not improve from 0.11797\n",
            "250/250 - 12s - loss: 0.0506 - accuracy: 0.9826 - val_loss: 0.1388 - val_accuracy: 0.9598 - 12s/epoch - 49ms/step\n",
            "Epoch 13/20\n",
            "\n",
            "Epoch 13: val_loss did not improve from 0.11797\n",
            "250/250 - 12s - loss: 0.0703 - accuracy: 0.9750 - val_loss: 0.1461 - val_accuracy: 0.9630 - 12s/epoch - 49ms/step\n",
            "Epoch 14/20\n",
            "\n",
            "Epoch 14: val_loss did not improve from 0.11797\n",
            "250/250 - 12s - loss: 0.0446 - accuracy: 0.9845 - val_loss: 0.1355 - val_accuracy: 0.9640 - 12s/epoch - 48ms/step\n",
            "Epoch 15/20\n",
            "\n",
            "Epoch 15: val_loss did not improve from 0.11797\n",
            "250/250 - 12s - loss: 0.0374 - accuracy: 0.9866 - val_loss: 0.1552 - val_accuracy: 0.9610 - 12s/epoch - 49ms/step\n",
            "Epoch 16/20\n",
            "\n",
            "Epoch 16: val_loss did not improve from 0.11797\n",
            "250/250 - 12s - loss: 0.0359 - accuracy: 0.9870 - val_loss: 0.1469 - val_accuracy: 0.9620 - 12s/epoch - 49ms/step\n",
            "Epoch 17/20\n",
            "\n",
            "Epoch 17: val_loss did not improve from 0.11797\n",
            "250/250 - 12s - loss: 0.0331 - accuracy: 0.9883 - val_loss: 0.1453 - val_accuracy: 0.9629 - 12s/epoch - 49ms/step\n",
            "Epoch 18/20\n",
            "\n",
            "Epoch 18: val_loss did not improve from 0.11797\n",
            "250/250 - 12s - loss: 0.0302 - accuracy: 0.9894 - val_loss: 0.1695 - val_accuracy: 0.9602 - 12s/epoch - 49ms/step\n",
            "Epoch 19/20\n",
            "\n",
            "Epoch 19: val_loss did not improve from 0.11797\n",
            "250/250 - 12s - loss: 0.0298 - accuracy: 0.9892 - val_loss: 0.1565 - val_accuracy: 0.9630 - 12s/epoch - 49ms/step\n",
            "Epoch 20/20\n",
            "\n",
            "Epoch 20: val_loss did not improve from 0.11797\n",
            "250/250 - 13s - loss: 0.0271 - accuracy: 0.9904 - val_loss: 0.1623 - val_accuracy: 0.9623 - 13s/epoch - 50ms/step\n"
          ]
        }
      ]
    },
    {
      "cell_type": "code",
      "source": [
        "# Sauvegarde des poids du modèle\n",
        "my_model.save_weights('/content/drive/My Drive/weights.h5')"
      ],
      "metadata": {
        "id": "eHGNWFthgEde"
      },
      "execution_count": null,
      "outputs": []
    },
    {
      "cell_type": "markdown",
      "source": [
        "Afin d'analyser le comportement de notre modèle, on va comparer les courbes de loss et les courbes de précision."
      ],
      "metadata": {
        "id": "GPkEwwIvgKEG"
      }
    },
    {
      "cell_type": "code",
      "source": [
        "# Récupération de l'historique d'entraînement\n",
        "acc = history.history['accuracy']\n",
        "val_acc = history.history['val_accuracy']\n",
        "loss = history.history['loss']\n",
        "val_loss = history.history['val_loss']\n",
        "\n",
        "# Traçage des courbes d'entraînement\n",
        "plt.figure(figsize=(15, 15))\n",
        "\n",
        "# Courbe de l'accuracy\n",
        "plt.subplot(2, 2, 1)\n",
        "plt.plot(acc, label='Training Accuracy')\n",
        "plt.plot(val_acc, label='Validation Accuracy')\n",
        "plt.legend(loc='lower right')\n",
        "plt.title('Training and Validation Accuracy')\n",
        "plt.xlabel('Epochs')\n",
        "plt.ylabel('Accuracy')\n",
        "\n",
        "# Courbe de la loss\n",
        "plt.subplot(2, 2, 2)\n",
        "plt.plot(loss, label='Training Loss')\n",
        "plt.plot(val_loss, label='Validation Loss')\n",
        "plt.legend(loc='upper right')\n",
        "plt.title('Training and Validation Loss')\n",
        "plt.xlabel('Epochs')\n",
        "plt.ylabel('Loss')\n",
        "\n",
        "# Sauvegarde de la figure\n",
        "plt.savefig('/content/drive/My Drive/model_training_history.png')\n",
        "plt.show()\n"
      ],
      "metadata": {
        "id": "MoGwFpxKgJQm",
        "colab": {
          "base_uri": "https://localhost:8080/",
          "height": 627
        },
        "outputId": "38198641-9211-4540-b314-e7cd7c9aac30"
      },
      "execution_count": null,
      "outputs": [
        {
          "output_type": "display_data",
          "data": {
            "text/plain": [
              "<Figure size 1500x1500 with 2 Axes>"
            ],
            "image/png": "[encoded data removed]"
          },
          "metadata": {}
        }
      ]
    },
    {
      "cell_type": "markdown",
      "source": [
        "Essayons notre modèle sur les données de test :"
      ],
      "metadata": {
        "id": "crh-1XMcgWVn"
      }
    },
    {
      "cell_type": "code",
      "source": [
        "from tensorflow.keras.models import load_model\n",
        "\n",
        "# Chargement du meilleur modèle sauvegardé\n",
        "best_model = load_model(filepath)\n",
        "\n",
        "# Affichage du résumé du modèle\n",
        "best_model.summary()\n",
        "\n",
        "# Évaluation du modèle sur l'ensemble de test\n",
        "test_score = best_model.evaluate(X_test_normalized, Y_test_categorical, verbose=1)\n",
        "\n",
        "# Affichage des résultats\n",
        "print('Test loss: {:0.2f}%, Test accuracy: {:0.2f}% '.format(test_score[0] * 100, test_score[1] * 100))\n"
      ],
      "metadata": {
        "id": "OQTuWTJygVF3",
        "colab": {
          "base_uri": "https://localhost:8080/"
        },
        "outputId": "9ba91885-115c-4685-f20a-55f0f8b6781a"
      },
      "execution_count": null,
      "outputs": [
        {
          "output_type": "stream",
          "name": "stdout",
          "text": [
            "Model: \"sequential\"\n",
            "_________________________________________________________________\n",
            " Layer (type)                Output Shape              Param #   \n",
            "=================================================================\n",
            " conv2d (Conv2D)             (None, 28, 28, 32)        896       \n",
            "                                                                 \n",
            " conv2d_1 (Conv2D)           (None, 28, 28, 64)        18496     \n",
            "                                                                 \n",
            " max_pooling2d (MaxPooling2  (None, 14, 14, 64)        0         \n",
            " D)                                                              \n",
            "                                                                 \n",
            " dropout (Dropout)           (None, 14, 14, 64)        0         \n",
            "                                                                 \n",
            " conv2d_2 (Conv2D)           (None, 14, 14, 128)       73856     \n",
            "                                                                 \n",
            " conv2d_3 (Conv2D)           (None, 14, 14, 256)       295168    \n",
            "                                                                 \n",
            " max_pooling2d_1 (MaxPoolin  (None, 7, 7, 256)         0         \n",
            " g2D)                                                            \n",
            "                                                                 \n",
            " conv2d_4 (Conv2D)           (None, 7, 7, 128)         295040    \n",
            "                                                                 \n",
            " conv2d_5 (Conv2D)           (None, 7, 7, 256)         295168    \n",
            "                                                                 \n",
            " max_pooling2d_2 (MaxPoolin  (None, 3, 3, 256)         0         \n",
            " g2D)                                                            \n",
            "                                                                 \n",
            " flatten (Flatten)           (None, 2304)              0         \n",
            "                                                                 \n",
            " dropout_1 (Dropout)         (None, 2304)              0         \n",
            "                                                                 \n",
            " dense (Dense)               (None, 128)               295040    \n",
            "                                                                 \n",
            " dense_1 (Dense)             (None, 100)               12900     \n",
            "                                                                 \n",
            " dense_2 (Dense)             (None, 5)                 505       \n",
            "                                                                 \n",
            "=================================================================\n",
            "Total params: 1287069 (4.91 MB)\n",
            "Trainable params: 1287069 (4.91 MB)\n",
            "Non-trainable params: 0 (0.00 Byte)\n",
            "_________________________________________________________________\n",
            "352/352 [==============================] - 2s 5ms/step - loss: 0.1084 - accuracy: 0.9631\n",
            "Test loss: 10.84%, Test accuracy: 96.31% \n"
          ]
        }
      ]
    },
    {
      "cell_type": "code",
      "source": [
        "pip freeze > '/content/drive/My Drive/requirements.txt'"
      ],
      "metadata": {
        "id": "tnDxQoppgjcs"
      },
      "execution_count": null,
      "outputs": []
    }
  ]
}